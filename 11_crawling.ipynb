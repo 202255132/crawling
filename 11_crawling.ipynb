{
  "nbformat": 4,
  "nbformat_minor": 0,
  "metadata": {
    "colab": {
      "name": "11-crawling.ipynb",
      "provenance": [],
      "collapsed_sections": [],
      "history_visible": true
    },
    "kernelspec": {
      "name": "python3",
      "display_name": "Python 3"
    },
    "language_info": {
      "name": "python"
    }
  },
  "cells": [
    {
      "cell_type": "code",
      "execution_count": 72,
      "metadata": {
        "colab": {
          "base_uri": "https://localhost:8080/"
        },
        "id": "1go2bWBIFicG",
        "outputId": "57ceee9a-c2ef-4037-c998-b71d8dfb7767"
      },
      "outputs": [
        {
          "output_type": "stream",
          "name": "stdout",
          "text": [
            "Looking in indexes: https://pypi.org/simple, https://us-python.pkg.dev/colab-wheels/public/simple/\n",
            "Requirement already satisfied: beautifulsoup4 in /usr/local/lib/python3.7/dist-packages (4.6.3)\n",
            "Looking in indexes: https://pypi.org/simple, https://us-python.pkg.dev/colab-wheels/public/simple/\n",
            "Requirement already satisfied: requests in /usr/local/lib/python3.7/dist-packages (2.23.0)\n",
            "Requirement already satisfied: idna<3,>=2.5 in /usr/local/lib/python3.7/dist-packages (from requests) (2.10)\n",
            "Requirement already satisfied: certifi>=2017.4.17 in /usr/local/lib/python3.7/dist-packages (from requests) (2022.5.18.1)\n",
            "Requirement already satisfied: chardet<4,>=3.0.2 in /usr/local/lib/python3.7/dist-packages (from requests) (3.0.4)\n",
            "Requirement already satisfied: urllib3!=1.25.0,!=1.25.1,<1.26,>=1.21.1 in /usr/local/lib/python3.7/dist-packages (from requests) (1.24.3)\n"
          ]
        }
      ],
      "source": [
        "!pip install beautifulsoup4\n",
        "!pip install requests"
      ]
    },
    {
      "cell_type": "code",
      "source": [
        "from google.colab import drive\n",
        "drive.mount('/content/drive')\n",
        "%cd /content/drive/MyDrive/crawling/11-crawling.ipynb\n",
        "!pwd\n",
        "!ls"
      ],
      "metadata": {
        "colab": {
          "base_uri": "https://localhost:8080/"
        },
        "id": "QgBvV5A3FjUD",
        "outputId": "21e3d69d-f306-4826-e35b-3b77e1562b76"
      },
      "execution_count": 90,
      "outputs": [
        {
          "output_type": "stream",
          "name": "stdout",
          "text": [
            "Drive already mounted at /content/drive; to attempt to forcibly remount, call drive.mount(\"/content/drive\", force_remount=True).\n",
            "[Errno 20] Not a directory: '/content/drive/MyDrive/crawling/11-crawling.ipynb'\n",
            "/content\n",
            "/content\n",
            "data.csv  drive  sample_data\n"
          ]
        }
      ]
    },
    {
      "cell_type": "code",
      "source": [
        "import requests\n",
        "from bs4 import BeautifulSoup\n",
        "import csv\n",
        "import time\n",
        "\n",
        "url = 'https://news.google.com/covid19/map?hl=ko&gl=KR&ceid=KR%3Ako'\n",
        "\n",
        "place=[]\n",
        "sum_num=[]\n",
        "new_num=[]\n",
        "m_num=[]\n",
        "died_num=[]\n",
        "\n",
        "f = open(\"data.csv\",\"w\",encoding='utf-8')\n",
        "writer = csv.writer(f)\n",
        "data = [['지역이름','총 확진자 수','신규확진자 수','백만명 당 확진자 수','사망자 수']]\n",
        "writer.writerows(data)\n",
        "\n",
        "def country_link(num,u):\n",
        "  \n",
        "  response=requests.get(u)\n",
        "\n",
        "  if response.status_code == 200:\n",
        "    html=response.text\n",
        "    soup=BeautifulSoup(html, 'html.parser')\n",
        "\n",
        "    country=soup.select_one(f'#yDmH0d > c-wiz.zQTmif.SSPGKf > div > div.FVeGwb.ARbOBb > div.BP0hze > div.y3767c > div > div > div.dzRe8d.pym81b > div > div.sOh.CrmLxe > table > tbody > tr:nth-of-type({country_num+1})')\n",
        "    i_str=str(country)\n",
        "    i=i_str.find('/m/')\n",
        "    f_str=i_str[i+3:]\n",
        "    f=f_str.find('\"')\n",
        "    www=f_str[:f]\n",
        "\n",
        "  else:\n",
        "    print('연결되지않음')\n",
        "    print(response.status_code)\n",
        "\n",
        "  return www\n",
        "\n",
        "def covid_data(u2):\n",
        "\n",
        "  weblink = requests.get(u2)\n",
        "\n",
        "  if weblink.status_code == 200:\n",
        "    html = weblink.text\n",
        "    soup = BeautifulSoup(html, 'html.parser')\n",
        "\n",
        "    place_in=soup.find_all('div', attrs={\"class\":\"pcAJd\"})\n",
        "    for i in place_in:\n",
        "      place.append(i.get_text())\n",
        "    place.pop(0)\n",
        "    time.sleep(10)\n",
        "    \n",
        "    infect=soup.find_all('td', attrs={\"class\":\"l3HOY\"})\n",
        "    cheak=0\n",
        "    for j in infect:\n",
        "      if cheak==0:\n",
        "        sum_num.append(j.get_text())\n",
        "        cheak=1\n",
        "      elif cheak==1:\n",
        "        new_num.append(j.get_text())\n",
        "        cheak=2\n",
        "      elif cheak==2:\n",
        "        cheak=3\n",
        "      elif cheak==3:\n",
        "        m_num.append(j.get_text())\n",
        "        cheak=4\n",
        "      elif cheak==4:\n",
        "        died_num.append(j.get_text())\n",
        "        cheak=0\n",
        "\n",
        "    sum_num.pop(0)\n",
        "    new_num.pop(0)\n",
        "    m_num.pop(0)\n",
        "    died_num.pop(0)\n",
        "    time.sleep(10)    \n",
        "\n",
        "  else:\n",
        "    print('연결되지않음')\n",
        "    print(weblink.status_code)\n",
        "\n",
        "country_num=int(input('궁금한 국가의 순위를 입력하시오: '))\n",
        "clink=country_link(country_num,url)\n",
        "url2=f'https://news.google.com/covid19/map?hl=ko&gl=KR&ceid=KR%3Ako&mid=%2Fm%2F{clink}'\n",
        "covid_data(url2)\n",
        "\n",
        "for k in range(len(place)):\n",
        "  row = [[place[k], sum_num[k], new_num[k], m_num[k], died_num[k]]]\n",
        "  writer.writerows(row)\n",
        "\n",
        "f.close()"
      ],
      "metadata": {
        "colab": {
          "base_uri": "https://localhost:8080/"
        },
        "id": "8socWMuQFpEL",
        "outputId": "ce330c19-0aeb-42a3-d1fe-962a1a8c60c6"
      },
      "execution_count": 93,
      "outputs": [
        {
          "name": "stdout",
          "output_type": "stream",
          "text": [
            "궁금한 국가의 순위를 입력하시오: 3\n"
          ]
        }
      ]
    }
  ]
}