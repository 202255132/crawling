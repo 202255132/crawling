{
  "nbformat": 4,
  "nbformat_minor": 0,
  "metadata": {
    "colab": {
      "name": "COVID-19.ipynb",
      "provenance": [],
      "collapsed_sections": [],
      "authorship_tag": "ABX9TyMfqU5xZUWpZ6NdS/BM6quR",
      "include_colab_link": true
    },
    "kernelspec": {
      "name": "python3",
      "display_name": "Python 3"
    },
    "language_info": {
      "name": "python"
    }
  },
  "cells": [
    {
      "cell_type": "markdown",
      "metadata": {
        "id": "view-in-github",
        "colab_type": "text"
      },
      "source": [
        "<a href=\"https://colab.research.google.com/github/202255132/crawling/blob/main/COVID_19.ipynb\" target=\"_parent\"><img src=\"https://colab.research.google.com/assets/colab-badge.svg\" alt=\"Open In Colab\"/></a>"
      ]
    },
    {
      "cell_type": "code",
      "execution_count": null,
      "metadata": {
        "id": "QmvC6_cb5TKC"
      },
      "outputs": [],
      "source": [
        "!pip install beautifulsoup4\n",
        "!pip install requests\n",
        "\n",
        "from google.colab import drive\n",
        "drive.mount('/content/drive')\n",
        "%cd /content/drive/MyDrive/Crawling\n",
        "!pwd\n",
        "!ls"
      ]
    },
    {
      "cell_type": "code",
      "source": [
        "import requests\n",
        "from bs4 import BeautifulSoup\n",
        "import csv\n",
        "import time\n",
        "\n",
        "url = 'https://news.google.com/covid19/map?hl=ko&mid=%2Fm%2F02j71&gl=KR&ceid=KR%3Ako'\n",
        "\n",
        "f = open(\"data.csv\", \"w\", encoding='utf-8')\n",
        "writer = csv.writer(f)\n",
        "data = [['country']]\n",
        "writer.writerows(data)\n",
        "country = []\n",
        "\n",
        "def get_data(url):\n",
        "  response = requests.get(url)\n",
        "  ranking = []\n",
        "\n",
        "  if response.status_code == 200:\n",
        "    html = response.text\n",
        "    soup = BeautifulSoup(html, 'html.parser')\n",
        "\n",
        "    ranking = soup.find_all('div', {'class' : 'pcAJd'})\n",
        "\n",
        "    for i in ranking:\n",
        "     country.append(i.get_text())\n",
        "\n",
        "    print(country)\n",
        "\n",
        "  else :\n",
        "      print('연결되지않음')\n",
        "      print(response.status_code)\n",
        "\n",
        "get_data(url)\n",
        "\n",
        "for i in range(len(country)):\n",
        "    row = [[country[i]]]\n",
        "    writer.writerows(row)\n",
        "\n",
        "f.close()\n",
        "\n"
      ],
      "metadata": {
        "colab": {
          "base_uri": "https://localhost:8080/"
        },
        "id": "JWMCWycR6Jb5",
        "outputId": "516f1ba9-f096-4b2a-a44b-5b0ed2d9c605"
      },
      "execution_count": 38,
      "outputs": [
        {
          "output_type": "stream",
          "name": "stdout",
          "text": [
            "['전 세계', '미국', '인도', '브라질', '프랑스', '독일', '영국', '대한민국', '러시아', '이탈리아', '터키', '스페인', '베트남', '아르헨티나', '일본', '네덜란드', '오스트레일리아', '이란', '콜롬비아', '인도네시아', '폴란드', '멕시코', '우크라이나', '포르투갈', '말레이시아', '태국', '오스트리아', '벨기에', '이스라엘', '남아프리카 공화국', '체코', '캐나다', '칠레', '필리핀', '스위스', '페루', '그리스', '덴마크', '루마니아', '슬로바키아', '스웨덴']\n"
          ]
        }
      ]
    }
  ]
}