{
  "nbformat": 4,
  "nbformat_minor": 0,
  "metadata": {
    "colab": {
      "name": "COVID-19.ipynb",
      "provenance": [],
      "collapsed_sections": [],
      "include_colab_link": true
    },
    "kernelspec": {
      "name": "python3",
      "display_name": "Python 3"
    },
    "language_info": {
      "name": "python"
    }
  },
  "cells": [
    {
      "cell_type": "markdown",
      "metadata": {
        "id": "view-in-github",
        "colab_type": "text"
      },
      "source": [
        "<a href=\"https://colab.research.google.com/github/202255132/crawling/blob/main/COVID_19.ipynb\" target=\"_parent\"><img src=\"https://colab.research.google.com/assets/colab-badge.svg\" alt=\"Open In Colab\"/></a>"
      ]
    },
    {
      "cell_type": "code",
      "execution_count": null,
      "metadata": {
        "id": "QmvC6_cb5TKC"
      },
      "outputs": [],
      "source": [
        "!pip install beautifulsoup4\n",
        "!pip install requests\n",
        "\n",
        "#202255132박용준\n",
        "\n",
        "from google.colab import drive\n",
        "drive.mount('/content/drive')\n",
        "%cd /content/drive/MyDrive/Crawling\n",
        "!pwd\n",
        "!ls"
      ]
    },
    {
      "cell_type": "code",
      "source": [
        "import requests\n",
        "from bs4 import BeautifulSoup\n",
        "import csv\n",
        "import time\n",
        "\n",
        "url = 'https://news.google.com/covid19/map?hl=ko&mid=%2Fm%2F02j71&gl=KR&ceid=KR%3Ako'\n",
        "\n",
        "f = open(\"data.csv\", \"w\", encoding='utf-8')\n",
        "writer = csv.writer(f)\n",
        "data = [['ranking','country']]\n",
        "writer.writerows(data)\n",
        "country = []\n",
        "\n",
        "def get_data(url):\n",
        "  response = requests.get(url)\n",
        "  ranking = []\n",
        "\n",
        "  if response.status_code == 200:\n",
        "    html = response.text\n",
        "    soup = BeautifulSoup(html, 'html.parser')\n",
        "\n",
        "    ranking = soup.find_all('div', {'class' : 'pcAJd'})\n",
        "\n",
        "    for i in ranking:\n",
        "     country.append(i.get_text())\n",
        "\n",
        "    print(country)\n",
        "\n",
        "  else :\n",
        "      print('연결되지않음')\n",
        "      print(response.status_code)\n",
        "\n",
        "get_data(url)\n",
        "\n",
        "for i in range(len(country)):\n",
        "    row = [[i,country[i]]]\n",
        "    writer.writerows(row)\n",
        "\n",
        "f.close()\n",
        "\n"
      ],
      "metadata": {
        "colab": {
          "base_uri": "https://localhost:8080/"
        },
        "id": "JWMCWycR6Jb5",
        "outputId": "516f1ba9-f096-4b2a-a44b-5b0ed2d9c605"
      },
      "execution_count": null,
      "outputs": [
        {
          "output_type": "stream",
          "name": "stdout",
          "text": [
            "['전 세계', '미국', '인도', '브라질', '프랑스', '독일', '영국', '대한민국', '러시아', '이탈리아', '터키', '스페인', '베트남', '아르헨티나', '일본', '네덜란드', '오스트레일리아', '이란', '콜롬비아', '인도네시아', '폴란드', '멕시코', '우크라이나', '포르투갈', '말레이시아', '태국', '오스트리아', '벨기에', '이스라엘', '남아프리카 공화국', '체코', '캐나다', '칠레', '필리핀', '스위스', '페루', '그리스', '덴마크', '루마니아', '슬로바키아', '스웨덴']\n"
          ]
        }
      ]
    },
    {
      "cell_type": "code",
      "source": [
        "#202255145 신현재\n",
        "\n",
        "from google.colab import drive\n",
        "drive.mount('/content/drive')\n",
        "%cd /content/drive/MyDrive/crawling/11-crawling.ipynb\n",
        "!pwd\n",
        "!ls"
      ],
      "metadata": {
        "id": "OXXqJA83vqz_"
      },
      "execution_count": null,
      "outputs": []
    },
    {
      "cell_type": "code",
      "source": [
        "import requests\n",
        "from bs4 import BeautifulSoup\n",
        "import csv\n",
        "import time\n",
        "\n",
        "url = 'https://news.google.com/covid19/map?hl=ko&gl=KR&ceid=KR%3Ako'\n",
        "\n",
        "place=[]\n",
        "sum_num=[]\n",
        "new_num=[]\n",
        "m_num=[]\n",
        "died_num=[]\n",
        "\n",
        "f = open(\"covid_19.csv\",\"w\",encoding='utf-8')\n",
        "writer = csv.writer(f)\n",
        "data = [['지역이름','총 확진자 수','신규확진자 수','백만명 당 확진자 수','사망자 수']]\n",
        "writer.writerows(data)\n",
        "\n",
        "def country_link(num,u):\n",
        "  \n",
        "  response=requests.get(u)\n",
        "\n",
        "  if response.status_code == 200:\n",
        "    html=response.text\n",
        "    soup=BeautifulSoup(html, 'html.parser')\n",
        "\n",
        "    country=soup.select_one(f'#yDmH0d > c-wiz.zQTmif.SSPGKf > div > div.FVeGwb.ARbOBb > div.BP0hze > div.y3767c > div > div > div.dzRe8d.pym81b > div > div.sOh.CrmLxe > table > tbody > tr:nth-of-type({country_num+1})')\n",
        "    i_str=str(country)\n",
        "    i=i_str.find('/m/')\n",
        "    f_str=i_str[i+3:]\n",
        "    f=f_str.find('\"')\n",
        "    www=f_str[:f]\n",
        "\n",
        "  else:\n",
        "    print('연결되지않음')\n",
        "    print(response.status_code)\n",
        "\n",
        "  return www\n",
        "\n",
        "def covid_data(u2):\n",
        "\n",
        "  weblink = requests.get(u2)\n",
        "\n",
        "  if weblink.status_code == 200:\n",
        "    html = weblink.text\n",
        "    soup = BeautifulSoup(html, 'html.parser')\n",
        "\n",
        "    place_in=soup.find_all('div', attrs={\"class\":\"pcAJd\"})\n",
        "    for i in place_in:\n",
        "      place.append(i.get_text())\n",
        "    place.pop(0)\n",
        "    time.sleep(10)\n",
        "    \n",
        "    infect=soup.find_all('td', attrs={\"class\":\"l3HOY\"})\n",
        "    cheak=0\n",
        "    for j in infect:\n",
        "      if cheak==0:\n",
        "        sum_num.append(j.get_text())\n",
        "        cheak=1\n",
        "      elif cheak==1:\n",
        "        new_num.append(j.get_text())\n",
        "        cheak=2\n",
        "      elif cheak==2:\n",
        "        cheak=3\n",
        "      elif cheak==3:\n",
        "        m_num.append(j.get_text())\n",
        "        cheak=4\n",
        "      elif cheak==4:\n",
        "        died_num.append(j.get_text())\n",
        "        cheak=0\n",
        "\n",
        "    sum_num.pop(0)\n",
        "    new_num.pop(0)\n",
        "    m_num.pop(0)\n",
        "    died_num.pop(0)\n",
        "    time.sleep(10)    \n",
        "\n",
        "  else:\n",
        "    print('연결되지않음')\n",
        "    print(weblink.status_code)\n",
        "\n",
        "country_num=int(input('궁금한 국가의 순위를 입력하시오: '))\n",
        "clink=country_link(country_num,url)\n",
        "url2=f'https://news.google.com/covid19/map?hl=ko&gl=KR&ceid=KR%3Ako&mid=%2Fm%2F{clink}'\n",
        "covid_data(url2)\n",
        "\n",
        "for k in range(len(place)):\n",
        "  row = [[place[k], sum_num[k], new_num[k], m_num[k], died_num[k]]]\n",
        "  writer.writerows(row)\n",
        "\n",
        "f.close()"
      ],
      "metadata": {
        "id": "Jomwu-kJv4oj"
      },
      "execution_count": null,
      "outputs": []
    }
  ]
}